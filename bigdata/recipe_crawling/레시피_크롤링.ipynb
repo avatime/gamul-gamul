{
 "cells": [
  {
   "cell_type": "code",
   "execution_count": 25,
   "id": "d25eccdc",
   "metadata": {},
   "outputs": [],
   "source": [
    "from bs4 import BeautifulSoup\n",
    "from urllib import request\n",
    "from tqdm import tqdm\n",
    "import json, pandas as pd\n",
    "from io import StringIO\n",
    "import pickle"
   ]
  },
  {
   "cell_type": "markdown",
   "id": "3679226e",
   "metadata": {},
   "source": [
    "---"
   ]
  },
  {
   "cell_type": "code",
   "execution_count": 26,
   "id": "056c36b3",
   "metadata": {},
   "outputs": [],
   "source": [
    "def f(n):\n",
    "    url = 'http://www.10000recipe.com/recipe/' + str(n)\n",
    "    req = request.Request(url)\n",
    "    code = request.urlopen(url).read()\n",
    "    soup = BeautifulSoup(code, 'html.parser')\n",
    "\n",
    "    answer = {}\n",
    "    answer['이름'] = soup.find('div', 'view2_summary').find('h3').get_text()\n",
    "    answer['썸네일'] = soup.find('div', 'view2_pic').find('img', id='main_thumbs')['src']\n",
    "    answer['정보'] = soup.find('div', 'view2_summary_info').get_text().replace('\\n', '')\n",
    "    res = soup.find('div', 'ready_ingre3')\n",
    "    try:\n",
    "        ingre = []\n",
    "        for x in res.find_all('ul'):\n",
    "            for y in x.find_all('li'):\n",
    "              temp = y.get_text().replace('\\n', '').replace('구매', '').split(' ')\n",
    "              if temp[-1]:    # 정량이 없을 수 있다\n",
    "                ingre.append([temp[0], temp[-1]])\n",
    "              else:\n",
    "                ingre.append([temp[0]])\n",
    "\n",
    "        answer['재료'] = [ingre]\n",
    "    except (AttributeError):\n",
    "        return\n",
    "\n",
    "    res = soup.find('div', 'view_step')\n",
    "    i = 0\n",
    "    step = []\n",
    "    step_img = []\n",
    "    for n in res.find_all('div', 'view_step_cont'):\n",
    "        i += 1\n",
    "        try:\n",
    "            step_img.append(soup.find('div', id='stepimg' + str(i)).img['src'])\n",
    "        except:\n",
    "            pass\n",
    "        step.append('#' + str(i) + ' ' + n.get_text().replace('\\n', ''))\n",
    "    if not step:\n",
    "      return False\n",
    "    answer['순서'] = [step]\n",
    "    answer['순서img'] = [step_img]    # 없을수도...?\n",
    "    return answer"
   ]
  },
  {
   "cell_type": "code",
   "execution_count": 36,
   "id": "738daab4",
   "metadata": {},
   "outputs": [],
   "source": [
    "with open(\"final.pkl\", \"rb\") as f:\n",
    "    x = pickle.load(f)\n",
    "f.close()"
   ]
  },
  {
   "cell_type": "code",
   "execution_count": 38,
   "id": "4a5848e0",
   "metadata": {
    "scrolled": true
   },
   "outputs": [
    {
     "name": "stderr",
     "output_type": "stream",
     "text": [
      "  0%|                                                                                       | 0/159809 [00:00<?, ?it/s]\n"
     ]
    },
    {
     "ename": "TypeError",
     "evalue": "'_io.BufferedReader' object is not callable",
     "output_type": "error",
     "traceback": [
      "\u001b[1;31m---------------------------------------------------------------------------\u001b[0m",
      "\u001b[1;31mTypeError\u001b[0m                                 Traceback (most recent call last)",
      "Input \u001b[1;32mIn [38]\u001b[0m, in \u001b[0;36m<cell line: 2>\u001b[1;34m()\u001b[0m\n\u001b[0;32m      1\u001b[0m df \u001b[38;5;241m=\u001b[39m pd\u001b[38;5;241m.\u001b[39mDataFrame()\n\u001b[0;32m      2\u001b[0m \u001b[38;5;28;01mfor\u001b[39;00m i \u001b[38;5;129;01min\u001b[39;00m tqdm(x):\n\u001b[1;32m----> 3\u001b[0m     a \u001b[38;5;241m=\u001b[39m \u001b[43mf\u001b[49m\u001b[43m(\u001b[49m\u001b[43mi\u001b[49m\u001b[43m)\u001b[49m\n\u001b[0;32m      4\u001b[0m     \u001b[38;5;28;01mif\u001b[39;00m \u001b[38;5;129;01mnot\u001b[39;00m a:    \u001b[38;5;66;03m# 순서 표기가 없어서 false 로 반환 되는 것이 있음\u001b[39;00m\n\u001b[0;32m      5\u001b[0m         \u001b[38;5;28;01mcontinue\u001b[39;00m\n",
      "\u001b[1;31mTypeError\u001b[0m: '_io.BufferedReader' object is not callable"
     ]
    }
   ],
   "source": [
    "df = pd.DataFrame()\n",
    "for i in tqdm(x):\n",
    "    a = f(i)\n",
    "    if not a:    # 순서 표기가 없어서 false 로 반환 되는 것이 있음\n",
    "        continue\n",
    "    a = json.dumps(a, ensure_ascii=False)\n",
    "    temp = pd.read_json(StringIO(a))\n",
    "    if temp.shape[1] == 6:\n",
    "        df = pd.concat([df, temp], ignore_index=True)"
   ]
  },
  {
   "cell_type": "code",
   "execution_count": null,
   "id": "b0485aeb",
   "metadata": {},
   "outputs": [],
   "source": [
    "df.to_csv('a.csv', index=None, encoding=\"utf-8-sig\")"
   ]
  }
 ],
 "metadata": {
  "kernelspec": {
   "display_name": "Python 3 (ipykernel)",
   "language": "python",
   "name": "python3"
  },
  "language_info": {
   "codemirror_mode": {
    "name": "ipython",
    "version": 3
   },
   "file_extension": ".py",
   "mimetype": "text/x-python",
   "name": "python",
   "nbconvert_exporter": "python",
   "pygments_lexer": "ipython3",
   "version": "3.9.12"
  }
 },
 "nbformat": 4,
 "nbformat_minor": 5
}
