{
 "cells": [
  {
   "cell_type": "code",
   "execution_count": 1,
   "id": "6de4ca6e",
   "metadata": {},
   "outputs": [],
   "source": [
    "import pandas as pd"
   ]
  },
  {
   "cell_type": "code",
   "execution_count": 5,
   "id": "4b01b2d0",
   "metadata": {},
   "outputs": [],
   "source": [
    "df = pd.read_csv('recipe.tsv', sep='\\t')\n",
    "order = pd.read_csv('order.tsv', sep='\\t')"
   ]
  },
  {
   "cell_type": "code",
   "execution_count": 20,
   "id": "bad3bd1a",
   "metadata": {},
   "outputs": [],
   "source": [
    "ingre = pd.read_csv('recipe_ingre.tsv', sep='\\t')"
   ]
  },
  {
   "cell_type": "code",
   "execution_count": 136,
   "id": "62b5c364",
   "metadata": {
    "scrolled": false
   },
   "outputs": [
    {
     "data": {
      "text/html": [
       "<div>\n",
       "<style scoped>\n",
       "    .dataframe tbody tr th:only-of-type {\n",
       "        vertical-align: middle;\n",
       "    }\n",
       "\n",
       "    .dataframe tbody tr th {\n",
       "        vertical-align: top;\n",
       "    }\n",
       "\n",
       "    .dataframe thead th {\n",
       "        text-align: right;\n",
       "    }\n",
       "</style>\n",
       "<table border=\"1\" class=\"dataframe\">\n",
       "  <thead>\n",
       "    <tr style=\"text-align: right;\">\n",
       "      <th></th>\n",
       "      <th>이름</th>\n",
       "      <th>썸네일</th>\n",
       "      <th>정보</th>\n",
       "      <th>views</th>\n",
       "    </tr>\n",
       "  </thead>\n",
       "  <tbody>\n",
       "    <tr>\n",
       "      <th>18948</th>\n",
       "      <td>공립법 2호 높은틀 제누와즈 \\n정말 맛있어요</td>\n",
       "      <td>https://recipe1.ezmember.co.kr/cache/recipe/20...</td>\n",
       "      <td>6인분 이상 90분 이내 중급</td>\n",
       "      <td>0</td>\n",
       "    </tr>\n",
       "    <tr>\n",
       "      <th>18949</th>\n",
       "      <td>도쿄 바나나 커스터드 크림</td>\n",
       "      <td>https://recipe1.ezmember.co.kr/cache/recipe/20...</td>\n",
       "      <td>6인분 이상 30분 이내 초급</td>\n",
       "      <td>0</td>\n",
       "    </tr>\n",
       "  </tbody>\n",
       "</table>\n",
       "</div>"
      ],
      "text/plain": [
       "                              이름  \\\n",
       "18948  공립법 2호 높은틀 제누와즈 \\n정말 맛있어요   \n",
       "18949             도쿄 바나나 커스터드 크림   \n",
       "\n",
       "                                                     썸네일                 정보  \\\n",
       "18948  https://recipe1.ezmember.co.kr/cache/recipe/20...  6인분 이상 90분 이내 중급    \n",
       "18949  https://recipe1.ezmember.co.kr/cache/recipe/20...  6인분 이상 30분 이내 초급    \n",
       "\n",
       "       views  \n",
       "18948      0  \n",
       "18949      0  "
      ]
     },
     "execution_count": 136,
     "metadata": {},
     "output_type": "execute_result"
    }
   ],
   "source": [
    "df.iloc[18948:18950,:]  # df 22709, order 22710 , ingre 22709   18950  이상"
   ]
  },
  {
   "cell_type": "code",
   "execution_count": 139,
   "id": "e08213bc",
   "metadata": {},
   "outputs": [
    {
     "data": {
      "text/html": [
       "<div>\n",
       "<style scoped>\n",
       "    .dataframe tbody tr th:only-of-type {\n",
       "        vertical-align: middle;\n",
       "    }\n",
       "\n",
       "    .dataframe tbody tr th {\n",
       "        vertical-align: top;\n",
       "    }\n",
       "\n",
       "    .dataframe thead th {\n",
       "        text-align: right;\n",
       "    }\n",
       "</style>\n",
       "<table border=\"1\" class=\"dataframe\">\n",
       "  <thead>\n",
       "    <tr style=\"text-align: right;\">\n",
       "      <th></th>\n",
       "      <th>이름</th>\n",
       "      <th>썸네일</th>\n",
       "      <th>정보</th>\n",
       "      <th>views</th>\n",
       "    </tr>\n",
       "  </thead>\n",
       "  <tbody>\n",
       "    <tr>\n",
       "      <th>18948</th>\n",
       "      <td>공립법 2호 높은틀 제누와즈 \\n정말 맛있어요</td>\n",
       "      <td>https://recipe1.ezmember.co.kr/cache/recipe/20...</td>\n",
       "      <td>6인분 이상 90분 이내 중급</td>\n",
       "      <td>0</td>\n",
       "    </tr>\n",
       "    <tr>\n",
       "      <th>19636</th>\n",
       "      <td>계란말이만드는법\\n\\n</td>\n",
       "      <td>https://recipe1.ezmember.co.kr/cache/recipe/20...</td>\n",
       "      <td>2인분 30분 이내 중급</td>\n",
       "      <td>0</td>\n",
       "    </tr>\n",
       "    <tr>\n",
       "      <th>20191</th>\n",
       "      <td>참치김치찌개 맛있게 끓이는법 - 시원 깔끔하게\\n\\n</td>\n",
       "      <td>https://recipe1.ezmember.co.kr/cache/recipe/20...</td>\n",
       "      <td>2인분 30분 이내 초급</td>\n",
       "      <td>0</td>\n",
       "    </tr>\n",
       "    <tr>\n",
       "      <th>20320</th>\n",
       "      <td>전복죽 황금레시피 - 새송이버섯이 비법 한수\\n\\n</td>\n",
       "      <td>https://recipe1.ezmember.co.kr/cache/recipe/20...</td>\n",
       "      <td>4인분 60분 이내 중급</td>\n",
       "      <td>0</td>\n",
       "    </tr>\n",
       "    <tr>\n",
       "      <th>21708</th>\n",
       "      <td>사골끓이는법 - 집에서 쉽게 돼지국밥만들기\\n\\n</td>\n",
       "      <td>https://recipe1.ezmember.co.kr/cache/recipe/20...</td>\n",
       "      <td>6인분 이상 2시간 이상 중급</td>\n",
       "      <td>0</td>\n",
       "    </tr>\n",
       "    <tr>\n",
       "      <th>...</th>\n",
       "      <td>...</td>\n",
       "      <td>...</td>\n",
       "      <td>...</td>\n",
       "      <td>...</td>\n",
       "    </tr>\n",
       "    <tr>\n",
       "      <th>148431</th>\n",
       "      <td>날치알이 톡톡터지는 스팸무스비\\n간단한 한끼로 도시락으로 딱!!</td>\n",
       "      <td>https://recipe1.ezmember.co.kr/cache/recipe/20...</td>\n",
       "      <td>4인분 30분 이내 아무나</td>\n",
       "      <td>0</td>\n",
       "    </tr>\n",
       "    <tr>\n",
       "      <th>149151</th>\n",
       "      <td>리틀 포레스트 양배추전\\n양배추 오꼬노미야끼</td>\n",
       "      <td>https://recipe1.ezmember.co.kr/cache/recipe/20...</td>\n",
       "      <td>2인분 10분 이내 아무나</td>\n",
       "      <td>0</td>\n",
       "    </tr>\n",
       "    <tr>\n",
       "      <th>149333</th>\n",
       "      <td>냉털 초간단\\n두부조림 두부조림덮밥</td>\n",
       "      <td>https://recipe1.ezmember.co.kr/cache/recipe/20...</td>\n",
       "      <td>2인분 15분 이내 아무나</td>\n",
       "      <td>0</td>\n",
       "    </tr>\n",
       "    <tr>\n",
       "      <th>149470</th>\n",
       "      <td>초간단 밥반찬\\n어묵볶음 어묵꽈리고추볶음</td>\n",
       "      <td>https://recipe1.ezmember.co.kr/cache/recipe/20...</td>\n",
       "      <td>2인분 10분 이내 아무나</td>\n",
       "      <td>0</td>\n",
       "    </tr>\n",
       "    <tr>\n",
       "      <th>149738</th>\n",
       "      <td>순두부 요리 / 뜨끈뜨끈한 초간단 '고추참치 순두부찌개'\\n</td>\n",
       "      <td>https://recipe1.ezmember.co.kr/cache/recipe/20...</td>\n",
       "      <td>2인분 30분 이내 초급</td>\n",
       "      <td>0</td>\n",
       "    </tr>\n",
       "  </tbody>\n",
       "</table>\n",
       "<p>1276 rows × 4 columns</p>\n",
       "</div>"
      ],
      "text/plain": [
       "                                         이름  \\\n",
       "18948             공립법 2호 높은틀 제누와즈 \\n정말 맛있어요   \n",
       "19636                          계란말이만드는법\\n\\n   \n",
       "20191         참치김치찌개 맛있게 끓이는법 - 시원 깔끔하게\\n\\n   \n",
       "20320          전복죽 황금레시피 - 새송이버섯이 비법 한수\\n\\n   \n",
       "21708           사골끓이는법 - 집에서 쉽게 돼지국밥만들기\\n\\n   \n",
       "...                                     ...   \n",
       "148431  날치알이 톡톡터지는 스팸무스비\\n간단한 한끼로 도시락으로 딱!!   \n",
       "149151             리틀 포레스트 양배추전\\n양배추 오꼬노미야끼   \n",
       "149333                  냉털 초간단\\n두부조림 두부조림덮밥   \n",
       "149470               초간단 밥반찬\\n어묵볶음 어묵꽈리고추볶음   \n",
       "149738    순두부 요리 / 뜨끈뜨끈한 초간단 '고추참치 순두부찌개'\\n   \n",
       "\n",
       "                                                      썸네일                 정보  \\\n",
       "18948   https://recipe1.ezmember.co.kr/cache/recipe/20...  6인분 이상 90분 이내 중급    \n",
       "19636   https://recipe1.ezmember.co.kr/cache/recipe/20...     2인분 30분 이내 중급    \n",
       "20191   https://recipe1.ezmember.co.kr/cache/recipe/20...     2인분 30분 이내 초급    \n",
       "20320   https://recipe1.ezmember.co.kr/cache/recipe/20...     4인분 60분 이내 중급    \n",
       "21708   https://recipe1.ezmember.co.kr/cache/recipe/20...  6인분 이상 2시간 이상 중급    \n",
       "...                                                   ...                ...   \n",
       "148431  https://recipe1.ezmember.co.kr/cache/recipe/20...    4인분 30분 이내 아무나    \n",
       "149151  https://recipe1.ezmember.co.kr/cache/recipe/20...    2인분 10분 이내 아무나    \n",
       "149333  https://recipe1.ezmember.co.kr/cache/recipe/20...    2인분 15분 이내 아무나    \n",
       "149470  https://recipe1.ezmember.co.kr/cache/recipe/20...    2인분 10분 이내 아무나    \n",
       "149738  https://recipe1.ezmember.co.kr/cache/recipe/20...     2인분 30분 이내 초급    \n",
       "\n",
       "        views  \n",
       "18948       0  \n",
       "19636       0  \n",
       "20191       0  \n",
       "20320       0  \n",
       "21708       0  \n",
       "...       ...  \n",
       "148431      0  \n",
       "149151      0  \n",
       "149333      0  \n",
       "149470      0  \n",
       "149738      0  \n",
       "\n",
       "[1276 rows x 4 columns]"
      ]
     },
     "execution_count": 139,
     "metadata": {},
     "output_type": "execute_result"
    }
   ],
   "source": [
    "df[df['이름'].str.contains(\"\\n\")]"
   ]
  },
  {
   "cell_type": "code",
   "execution_count": 129,
   "id": "8743b156",
   "metadata": {
    "scrolled": true
   },
   "outputs": [
    {
     "data": {
      "text/plain": [
       "1276"
      ]
     },
     "execution_count": 129,
     "metadata": {},
     "output_type": "execute_result"
    }
   ],
   "source": [
    "df['이름'].str.contains(\"\\n\").sum()"
   ]
  },
  {
   "cell_type": "code",
   "execution_count": 143,
   "id": "8473d3ef",
   "metadata": {},
   "outputs": [],
   "source": [
    "df['이름'] = df['이름'].str.replace('\\n', ' ')"
   ]
  },
  {
   "cell_type": "code",
   "execution_count": 145,
   "id": "5f9ccec7",
   "metadata": {},
   "outputs": [
    {
     "data": {
      "text/plain": [
       "0"
      ]
     },
     "execution_count": 145,
     "metadata": {},
     "output_type": "execute_result"
    }
   ],
   "source": [
    "df['이름'].str.contains(\"\\n\").sum()"
   ]
  },
  {
   "cell_type": "markdown",
   "id": "fa4c4be2",
   "metadata": {},
   "source": [
    "---"
   ]
  },
  {
   "cell_type": "code",
   "execution_count": 147,
   "id": "c4aeb29e",
   "metadata": {
    "scrolled": false
   },
   "outputs": [
    {
     "data": {
      "text/plain": [
       "이름                                공립법 2호 높은틀 제누와즈  정말 맛있어요\n",
       "썸네일      https://recipe1.ezmember.co.kr/cache/recipe/20...\n",
       "정보                                       6인분 이상 90분 이내 중급 \n",
       "views                                                    0\n",
       "Name: 18948, dtype: object"
      ]
     },
     "execution_count": 147,
     "metadata": {},
     "output_type": "execute_result"
    }
   ],
   "source": [
    "df.iloc[18948,:]"
   ]
  },
  {
   "cell_type": "code",
   "execution_count": 154,
   "id": "a1974f8c",
   "metadata": {},
   "outputs": [
    {
     "data": {
      "text/plain": [
       "(150548, 4)"
      ]
     },
     "execution_count": 154,
     "metadata": {},
     "output_type": "execute_result"
    }
   ],
   "source": [
    "df.shape"
   ]
  },
  {
   "cell_type": "code",
   "execution_count": 152,
   "id": "572e2b55",
   "metadata": {},
   "outputs": [
    {
     "data": {
      "text/html": [
       "<div>\n",
       "<style scoped>\n",
       "    .dataframe tbody tr th:only-of-type {\n",
       "        vertical-align: middle;\n",
       "    }\n",
       "\n",
       "    .dataframe tbody tr th {\n",
       "        vertical-align: top;\n",
       "    }\n",
       "\n",
       "    .dataframe thead th {\n",
       "        text-align: right;\n",
       "    }\n",
       "</style>\n",
       "<table border=\"1\" class=\"dataframe\">\n",
       "  <thead>\n",
       "    <tr style=\"text-align: right;\">\n",
       "      <th></th>\n",
       "      <th>Unnamed: 0</th>\n",
       "      <th>레시피</th>\n",
       "      <th>순서num</th>\n",
       "      <th>순서</th>\n",
       "      <th>순서img</th>\n",
       "    </tr>\n",
       "  </thead>\n",
       "  <tbody>\n",
       "    <tr>\n",
       "      <th>1224798</th>\n",
       "      <td>1224798</td>\n",
       "      <td>150548</td>\n",
       "      <td>1</td>\n",
       "      <td>고기를 졸일 동안 청경채를 데쳐볼게요 한 장씩 떼도 되고 저처럼 꼭지는 정리해 주...</td>\n",
       "      <td>https://recipe1.ezmember.co.kr/cache/recipe/20...</td>\n",
       "    </tr>\n",
       "    <tr>\n",
       "      <th>1224799</th>\n",
       "      <td>1224799</td>\n",
       "      <td>150548</td>\n",
       "      <td>1</td>\n",
       "      <td>데칠 냄비에 물을 담고 굵은 소금 약간만 넣어준 다음 물이 끓으면 청경채를 넣어주세요</td>\n",
       "      <td>https://recipe1.ezmember.co.kr/cache/recipe/20...</td>\n",
       "    </tr>\n",
       "    <tr>\n",
       "      <th>1224800</th>\n",
       "      <td>1224800</td>\n",
       "      <td>150548</td>\n",
       "      <td>1</td>\n",
       "      <td>너무 오래 데치면 맛이 없으니 아삭한 식감을 살리기 위해서는 10~15초만 삶아주...</td>\n",
       "      <td>https://recipe1.ezmember.co.kr/cache/recipe/20...</td>\n",
       "    </tr>\n",
       "    <tr>\n",
       "      <th>1224801</th>\n",
       "      <td>1224801</td>\n",
       "      <td>150548</td>\n",
       "      <td>1</td>\n",
       "      <td>데친 청경채는 찬물에 빠르게 헹궈준 다음 저는 야채 탈수기에 한번 돌렸어요 물도 ...</td>\n",
       "      <td>https://recipe1.ezmember.co.kr/cache/recipe/20...</td>\n",
       "    </tr>\n",
       "    <tr>\n",
       "      <th>1224802</th>\n",
       "      <td>1224802</td>\n",
       "      <td>150548</td>\n",
       "      <td>1</td>\n",
       "      <td>오랜 공을 들여 동파육 완성!!청경채를 접시 주면에 두른 다음 고기를 그 안에 두...</td>\n",
       "      <td>https://recipe1.ezmember.co.kr/cache/recipe/20...</td>\n",
       "    </tr>\n",
       "  </tbody>\n",
       "</table>\n",
       "</div>"
      ],
      "text/plain": [
       "         Unnamed: 0     레시피  순서num  \\\n",
       "1224798     1224798  150548      1   \n",
       "1224799     1224799  150548      1   \n",
       "1224800     1224800  150548      1   \n",
       "1224801     1224801  150548      1   \n",
       "1224802     1224802  150548      1   \n",
       "\n",
       "                                                        순서  \\\n",
       "1224798   고기를 졸일 동안 청경채를 데쳐볼게요 한 장씩 떼도 되고 저처럼 꼭지는 정리해 주...   \n",
       "1224799    데칠 냄비에 물을 담고 굵은 소금 약간만 넣어준 다음 물이 끓으면 청경채를 넣어주세요   \n",
       "1224800   너무 오래 데치면 맛이 없으니 아삭한 식감을 살리기 위해서는 10~15초만 삶아주...   \n",
       "1224801   데친 청경채는 찬물에 빠르게 헹궈준 다음 저는 야채 탈수기에 한번 돌렸어요 물도 ...   \n",
       "1224802   오랜 공을 들여 동파육 완성!!청경채를 접시 주면에 두른 다음 고기를 그 안에 두...   \n",
       "\n",
       "                                                     순서img  \n",
       "1224798  https://recipe1.ezmember.co.kr/cache/recipe/20...  \n",
       "1224799  https://recipe1.ezmember.co.kr/cache/recipe/20...  \n",
       "1224800  https://recipe1.ezmember.co.kr/cache/recipe/20...  \n",
       "1224801  https://recipe1.ezmember.co.kr/cache/recipe/20...  \n",
       "1224802  https://recipe1.ezmember.co.kr/cache/recipe/20...  "
      ]
     },
     "execution_count": 152,
     "metadata": {},
     "output_type": "execute_result"
    }
   ],
   "source": [
    "order.tail()"
   ]
  },
  {
   "cell_type": "code",
   "execution_count": 148,
   "id": "88786026",
   "metadata": {
    "scrolled": true
   },
   "outputs": [
    {
     "data": {
      "text/html": [
       "<div>\n",
       "<style scoped>\n",
       "    .dataframe tbody tr th:only-of-type {\n",
       "        vertical-align: middle;\n",
       "    }\n",
       "\n",
       "    .dataframe tbody tr th {\n",
       "        vertical-align: top;\n",
       "    }\n",
       "\n",
       "    .dataframe thead th {\n",
       "        text-align: right;\n",
       "    }\n",
       "</style>\n",
       "<table border=\"1\" class=\"dataframe\">\n",
       "  <thead>\n",
       "    <tr style=\"text-align: right;\">\n",
       "      <th></th>\n",
       "      <th>Unnamed: 0</th>\n",
       "      <th>레시피</th>\n",
       "      <th>순서num</th>\n",
       "      <th>순서</th>\n",
       "      <th>순서img</th>\n",
       "    </tr>\n",
       "  </thead>\n",
       "  <tbody>\n",
       "    <tr>\n",
       "      <th>135611</th>\n",
       "      <td>135611</td>\n",
       "      <td>18949</td>\n",
       "      <td>1</td>\n",
       "      <td>계란은 사진과달리 4개+2분의1개가 필요해요!</td>\n",
       "      <td>https://recipe1.ezmember.co.kr/cache/recipe/20...</td>\n",
       "    </tr>\n",
       "    <tr>\n",
       "      <th>135612</th>\n",
       "      <td>135612</td>\n",
       "      <td>18949</td>\n",
       "      <td>2</td>\n",
       "      <td>계란에설탕,소금,익스트렉을넣고 섞일 정도로 저어줍니다</td>\n",
       "      <td>https://recipe1.ezmember.co.kr/cache/recipe/20...</td>\n",
       "    </tr>\n",
       "    <tr>\n",
       "      <th>135613</th>\n",
       "      <td>135613</td>\n",
       "      <td>18949</td>\n",
       "      <td>3</td>\n",
       "      <td>뜨뜻한 계란이 익지않을 정도의 온도의 물에 계란이 따뜻해질때 까지 중탕합니다. 중탕...</td>\n",
       "      <td>https://recipe1.ezmember.co.kr/cache/recipe/20...</td>\n",
       "    </tr>\n",
       "    <tr>\n",
       "      <th>135614</th>\n",
       "      <td>135614</td>\n",
       "      <td>18949</td>\n",
       "      <td>4</td>\n",
       "      <td>녹인버터입니다하하 필터가 참...</td>\n",
       "      <td>https://recipe1.ezmember.co.kr/cache/recipe/20...</td>\n",
       "    </tr>\n",
       "    <tr>\n",
       "      <th>135615</th>\n",
       "      <td>135615</td>\n",
       "      <td>18949</td>\n",
       "      <td>5</td>\n",
       "      <td>따뜻해지면 고속으로 휘핑해줍니다</td>\n",
       "      <td>https://recipe1.ezmember.co.kr/cache/recipe/20...</td>\n",
       "    </tr>\n",
       "    <tr>\n",
       "      <th>135616</th>\n",
       "      <td>135616</td>\n",
       "      <td>18949</td>\n",
       "      <td>6</td>\n",
       "      <td>아이보리색이되고 위에서 떨어뜨렸을때 자국이 3초이상 남아있어야해요</td>\n",
       "      <td>https://recipe1.ezmember.co.kr/cache/recipe/20...</td>\n",
       "    </tr>\n",
       "    <tr>\n",
       "      <th>135617</th>\n",
       "      <td>135617</td>\n",
       "      <td>18949</td>\n",
       "      <td>7</td>\n",
       "      <td>체친밀가루를 넣고 섞어주세요섞기전에 180도로 예열해주세요전 오븐열이높아 170도로...</td>\n",
       "      <td>https://recipe1.ezmember.co.kr/cache/recipe/20...</td>\n",
       "    </tr>\n",
       "    <tr>\n",
       "      <th>135618</th>\n",
       "      <td>135618</td>\n",
       "      <td>18949</td>\n",
       "      <td>8</td>\n",
       "      <td>녹인 버터 그릇에 반죽을 덜어 섞어서 다시 반죽에 부어 섞어줍니다</td>\n",
       "      <td>https://recipe1.ezmember.co.kr/cache/recipe/20...</td>\n",
       "    </tr>\n",
       "    <tr>\n",
       "      <th>135619</th>\n",
       "      <td>135619</td>\n",
       "      <td>18949</td>\n",
       "      <td>9</td>\n",
       "      <td>팬닝합니다. 이사진은 적은 레시피 사진이에요실수로 지워졌나봐요 한80프로정도 체우면 되요</td>\n",
       "      <td>https://recipe1.ezmember.co.kr/cache/recipe/20...</td>\n",
       "    </tr>\n",
       "    <tr>\n",
       "      <th>135620</th>\n",
       "      <td>135620</td>\n",
       "      <td>18949</td>\n",
       "      <td>1</td>\n",
       "      <td>그래도 이레시피로 만든 제누와즈를 잘라놓은 사진은 있네요!! 정말맛있어요 그냥 먹...</td>\n",
       "      <td>https://recipe1.ezmember.co.kr/cache/recipe/20...</td>\n",
       "    </tr>\n",
       "  </tbody>\n",
       "</table>\n",
       "</div>"
      ],
      "text/plain": [
       "        Unnamed: 0    레시피  순서num  \\\n",
       "135611      135611  18949      1   \n",
       "135612      135612  18949      2   \n",
       "135613      135613  18949      3   \n",
       "135614      135614  18949      4   \n",
       "135615      135615  18949      5   \n",
       "135616      135616  18949      6   \n",
       "135617      135617  18949      7   \n",
       "135618      135618  18949      8   \n",
       "135619      135619  18949      9   \n",
       "135620      135620  18949      1   \n",
       "\n",
       "                                                       순서  \\\n",
       "135611                          계란은 사진과달리 4개+2분의1개가 필요해요!   \n",
       "135612                      계란에설탕,소금,익스트렉을넣고 섞일 정도로 저어줍니다   \n",
       "135613  뜨뜻한 계란이 익지않을 정도의 온도의 물에 계란이 따뜻해질때 까지 중탕합니다. 중탕...   \n",
       "135614                                 녹인버터입니다하하 필터가 참...   \n",
       "135615                                  따뜻해지면 고속으로 휘핑해줍니다   \n",
       "135616               아이보리색이되고 위에서 떨어뜨렸을때 자국이 3초이상 남아있어야해요   \n",
       "135617  체친밀가루를 넣고 섞어주세요섞기전에 180도로 예열해주세요전 오븐열이높아 170도로...   \n",
       "135618               녹인 버터 그릇에 반죽을 덜어 섞어서 다시 반죽에 부어 섞어줍니다   \n",
       "135619  팬닝합니다. 이사진은 적은 레시피 사진이에요실수로 지워졌나봐요 한80프로정도 체우면 되요   \n",
       "135620   그래도 이레시피로 만든 제누와즈를 잘라놓은 사진은 있네요!! 정말맛있어요 그냥 먹...   \n",
       "\n",
       "                                                    순서img  \n",
       "135611  https://recipe1.ezmember.co.kr/cache/recipe/20...  \n",
       "135612  https://recipe1.ezmember.co.kr/cache/recipe/20...  \n",
       "135613  https://recipe1.ezmember.co.kr/cache/recipe/20...  \n",
       "135614  https://recipe1.ezmember.co.kr/cache/recipe/20...  \n",
       "135615  https://recipe1.ezmember.co.kr/cache/recipe/20...  \n",
       "135616  https://recipe1.ezmember.co.kr/cache/recipe/20...  \n",
       "135617  https://recipe1.ezmember.co.kr/cache/recipe/20...  \n",
       "135618  https://recipe1.ezmember.co.kr/cache/recipe/20...  \n",
       "135619  https://recipe1.ezmember.co.kr/cache/recipe/20...  \n",
       "135620  https://recipe1.ezmember.co.kr/cache/recipe/20...  "
      ]
     },
     "execution_count": 148,
     "metadata": {},
     "output_type": "execute_result"
    }
   ],
   "source": [
    "order[order['레시피'] == 18949]"
   ]
  },
  {
   "cell_type": "code",
   "execution_count": 149,
   "id": "1a5d6faa",
   "metadata": {
    "scrolled": true
   },
   "outputs": [
    {
     "data": {
      "text/html": [
       "<div>\n",
       "<style scoped>\n",
       "    .dataframe tbody tr th:only-of-type {\n",
       "        vertical-align: middle;\n",
       "    }\n",
       "\n",
       "    .dataframe tbody tr th {\n",
       "        vertical-align: top;\n",
       "    }\n",
       "\n",
       "    .dataframe thead th {\n",
       "        text-align: right;\n",
       "    }\n",
       "</style>\n",
       "<table border=\"1\" class=\"dataframe\">\n",
       "  <thead>\n",
       "    <tr style=\"text-align: right;\">\n",
       "      <th></th>\n",
       "      <th>레시피</th>\n",
       "      <th>재료</th>\n",
       "      <th>양</th>\n",
       "    </tr>\n",
       "  </thead>\n",
       "  <tbody>\n",
       "    <tr>\n",
       "      <th>171809</th>\n",
       "      <td>18949</td>\n",
       "      <td>계란</td>\n",
       "      <td>4.5개</td>\n",
       "    </tr>\n",
       "    <tr>\n",
       "      <th>171810</th>\n",
       "      <td>18949</td>\n",
       "      <td>설탕</td>\n",
       "      <td>150g</td>\n",
       "    </tr>\n",
       "    <tr>\n",
       "      <th>171811</th>\n",
       "      <td>18949</td>\n",
       "      <td>소금</td>\n",
       "      <td>1g</td>\n",
       "    </tr>\n",
       "    <tr>\n",
       "      <th>171812</th>\n",
       "      <td>18949</td>\n",
       "      <td>박력분</td>\n",
       "      <td>142g</td>\n",
       "    </tr>\n",
       "    <tr>\n",
       "      <th>171813</th>\n",
       "      <td>18949</td>\n",
       "      <td>녹인버터</td>\n",
       "      <td>52g</td>\n",
       "    </tr>\n",
       "    <tr>\n",
       "      <th>171814</th>\n",
       "      <td>18949</td>\n",
       "      <td>익스트렉</td>\n",
       "      <td>2ts</td>\n",
       "    </tr>\n",
       "  </tbody>\n",
       "</table>\n",
       "</div>"
      ],
      "text/plain": [
       "          레시피    재료     양\n",
       "171809  18949    계란  4.5개\n",
       "171810  18949    설탕  150g\n",
       "171811  18949    소금    1g\n",
       "171812  18949   박력분  142g\n",
       "171813  18949  녹인버터   52g\n",
       "171814  18949  익스트렉   2ts"
      ]
     },
     "execution_count": 149,
     "metadata": {},
     "output_type": "execute_result"
    }
   ],
   "source": [
    "ingre[ingre['레시피'] == 18949]"
   ]
  },
  {
   "cell_type": "code",
   "execution_count": 155,
   "id": "0afe3eec",
   "metadata": {},
   "outputs": [
    {
     "data": {
      "text/html": [
       "<div>\n",
       "<style scoped>\n",
       "    .dataframe tbody tr th:only-of-type {\n",
       "        vertical-align: middle;\n",
       "    }\n",
       "\n",
       "    .dataframe tbody tr th {\n",
       "        vertical-align: top;\n",
       "    }\n",
       "\n",
       "    .dataframe thead th {\n",
       "        text-align: right;\n",
       "    }\n",
       "</style>\n",
       "<table border=\"1\" class=\"dataframe\">\n",
       "  <thead>\n",
       "    <tr style=\"text-align: right;\">\n",
       "      <th></th>\n",
       "      <th>이름</th>\n",
       "      <th>썸네일</th>\n",
       "      <th>정보</th>\n",
       "      <th>views</th>\n",
       "    </tr>\n",
       "  </thead>\n",
       "  <tbody>\n",
       "  </tbody>\n",
       "</table>\n",
       "</div>"
      ],
      "text/plain": [
       "Empty DataFrame\n",
       "Columns: [이름, 썸네일, 정보, views]\n",
       "Index: []"
      ]
     },
     "execution_count": 155,
     "metadata": {},
     "output_type": "execute_result"
    }
   ],
   "source": [
    "df[df['이름'].str.contains(\"\\n\")]"
   ]
  },
  {
   "cell_type": "code",
   "execution_count": 156,
   "id": "cafad645",
   "metadata": {},
   "outputs": [],
   "source": [
    "df.to_csv('recipe.tsv', sep='\\t', index=False)"
   ]
  }
 ],
 "metadata": {
  "kernelspec": {
   "display_name": "Python 3 (ipykernel)",
   "language": "python",
   "name": "python3"
  },
  "language_info": {
   "codemirror_mode": {
    "name": "ipython",
    "version": 3
   },
   "file_extension": ".py",
   "mimetype": "text/x-python",
   "name": "python",
   "nbconvert_exporter": "python",
   "pygments_lexer": "ipython3",
   "version": "3.9.12"
  }
 },
 "nbformat": 4,
 "nbformat_minor": 5
}
