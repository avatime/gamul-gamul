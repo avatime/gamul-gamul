{
 "cells": [
  {
   "cell_type": "code",
   "execution_count": 2,
   "id": "f657a659",
   "metadata": {},
   "outputs": [],
   "source": [
    "import pandas as pd\n",
    "import os\n",
    "import pickle\n",
    "import warnings\n",
    "from tqdm import tqdm\n",
    "warnings.simplefilter(\"ignore\")"
   ]
  },
  {
   "cell_type": "code",
   "execution_count": 3,
   "id": "42da7990",
   "metadata": {},
   "outputs": [],
   "source": [
    "path = 'C:\\\\Users\\\\SSAFY\\\\Desktop\\\\S07P22A305\\\\bigdata\\\\물가_crawling\\\\result_data'"
   ]
  },
  {
   "cell_type": "code",
   "execution_count": 4,
   "id": "3bc39976",
   "metadata": {
    "scrolled": true
   },
   "outputs": [],
   "source": [
    "df = pd.DataFrame()"
   ]
  },
  {
   "cell_type": "code",
   "execution_count": 5,
   "id": "f1c3f324",
   "metadata": {
    "scrolled": true
   },
   "outputs": [
    {
     "name": "stderr",
     "output_type": "stream",
     "text": [
      "100%|██████████████████████████████████████████████████████████████████████████████████| 27/27 [00:11<00:00,  2.37it/s]\n"
     ]
    }
   ],
   "source": [
    "file = os.listdir(path)\n",
    "for i in tqdm(file):\n",
    "    temp = pd.read_excel(f'./result_data/{i}', engine='openpyxl')\n",
    "    df = pd.concat([df, temp], ignore_index=True)"
   ]
  },
  {
   "cell_type": "code",
   "execution_count": 6,
   "id": "c17c7270",
   "metadata": {},
   "outputs": [
    {
     "data": {
      "text/plain": [
       "(56780, 8)"
      ]
     },
     "execution_count": 6,
     "metadata": {},
     "output_type": "execute_result"
    }
   ],
   "source": [
    "df.shape"
   ]
  },
  {
   "cell_type": "code",
   "execution_count": 7,
   "id": "6073d7ca",
   "metadata": {},
   "outputs": [],
   "source": [
    "index = df[df['거래일자'].str.contains('계')].index"
   ]
  },
  {
   "cell_type": "code",
   "execution_count": 8,
   "id": "104ec48c",
   "metadata": {},
   "outputs": [],
   "source": [
    "df.drop(index, axis=0, inplace=True)"
   ]
  },
  {
   "cell_type": "code",
   "execution_count": 9,
   "id": "1c887cf5",
   "metadata": {
    "scrolled": false
   },
   "outputs": [],
   "source": [
    "a = df['시장'].unique().tolist()"
   ]
  },
  {
   "cell_type": "code",
   "execution_count": 4,
   "id": "44962f66",
   "metadata": {},
   "outputs": [],
   "source": [
    "with open(\"도매시장목록.pkl\", \"rb\") as f:\n",
    "    a = pickle.load(f)"
   ]
  },
  {
   "cell_type": "code",
   "execution_count": 11,
   "id": "0071cb0b",
   "metadata": {
    "scrolled": false
   },
   "outputs": [],
   "source": [
    "b = df['시장'].unique().tolist()"
   ]
  },
  {
   "cell_type": "code",
   "execution_count": 12,
   "id": "cc80e140",
   "metadata": {},
   "outputs": [],
   "source": [
    "mid = {'일반계':'벼', '찹쌀(일반)':'찹쌀', '일반미(쌀 일반)':'쌀', '백태': '콩', '백태(수입)':'콩',\n",
    "        '붉은팥':'팥', '붉은팥(수입)':'팥', '녹두(일반)':'녹두', '녹두(수입)':'녹두', '메밀(수입)':'메밀', \n",
    "        '수미':'감자', '밤고구마':'고구마', '후지':'사과', '아오리':'사과', '홍로':'사과',\n",
    "        '신고':'배', '원황':'배', '캠벨얼리':'포도', '거봉':'포도', '백도':'복숭아',\n",
    "        '키위(수입)':'참다래(키위)', '바나나(수입)':'바나나', '파인애플(수입)':'파인애플',\n",
    "        '레몬(수입)':'레몬', '발렌시아':'오렌지', '망고(수입)':'망고', '수박(일반)':'수박',\n",
    "        '금싸라기':'참외', '토마토(일반)':'토마토', '네트계':'메론', '취청':'오이',\n",
    "        '백다다기':'오이', '가시오이':'오이', '애호박':'호박', '쥬키니호박':'호박',\n",
    "        '고냉지배추':'배추', '얼갈이배추':'얼갈이배추', '양배추(일반)':'양배추',\n",
    "        '청상추':'상추', '적상추':'상추', '열무(일반)':'열무', '시금치(일반)':'시금치',\n",
    "        '미나리(일반)':'미나리', '깻잎(일반)':'깻잎', '고냉지무':'무', '흙당근':'당근',\n",
    "        '세척당근(수입)':'당근', '양파(일반)':'양파', '대파(일반)':'대파', '쪽파(일반)':'쪽파',\n",
    "        '청양':'풋고추', '청초(일반)':'풋고추', '꽈리고추(일반)':'꽈리고추', '양건':'건고추',\n",
    "        '화건':'건고추', '햇양건고추':'건고추', '햇화건고추':'건고추', '홍고추(일반)':'홍고추',\n",
    "        '생강(일반)':'생강', '생강(수입)':'생강', '청피망':'피망(단고추)', '파프리카(일반)':'파프리카',\n",
    "        '흰깨':'참깨', '참깨(수입)':'참깨', '들깨(일반)':'들깨', '들깨(수입)':'들깨',\n",
    "        '느타리버섯(일반)':'느타리버섯', '팽이1호':'팽이버섯',\n",
    "        '새송이(일반)':'새송이', '고추가루':'조미제품', '조생양파':'양파',\n",
    "        '저장형 한지':'마늘', '저장형 난지':'마늘', '햇마늘 난지':'마늘', '땅콩(일반)':'땅콩',\n",
    "        '설향':'딸기', '방울토마토':'방울토마토', '대지':'감자', '마스캇베리에이':'포도',\n",
    "        '포도(수입)':'포도', '유명':'복숭아', '부유':'단감', '참다래(키위)일반':'참다래(키위)',\n",
    "        '조생귤':'감귤', '봄배추':'배추', '김장(가을)배추':'배추', '월동배추':'배추', '봄무':'무',\n",
    "        '가을무':'무', '세척당근':'당근', '깐마늘':'마늘', '땅콩(수입)':'땅콩',\n",
    "        '양파(수입)':'양파', '마늘(수입)':'마늘', '네블':'오렌지', '자몽(수입)':'자몽',\n",
    "        '아몬드(수입)':'아몬드', '건블루베리(수입)':'블루베리', '갓(일반)':'갓',\n",
    "        '호두(일반)':'호두', '건포도(수입)':'건제품', '체리(수입)':'체리', '월동무':'무',\n",
    "        '중생귤':'감귤', '하우스감귤':'감귤'}"
   ]
  },
  {
   "cell_type": "code",
   "execution_count": 13,
   "id": "3360058d",
   "metadata": {
    "scrolled": true
   },
   "outputs": [],
   "source": [
    "df['중분류'] = df['품목명'].apply(lambda x : mid[x])"
   ]
  },
  {
   "cell_type": "code",
   "execution_count": 14,
   "id": "80f1a6e9",
   "metadata": {},
   "outputs": [],
   "source": [
    "high = {'벼':1, '쌀':1, '찹쌀':1, '콩':2, '팥':2, '녹두':2, '감자':3,\n",
    "        '고구마':3, '사과':4, '배':4, '포도':4, '복숭아':4, '단감':4,\n",
    "        '참다래(키위)':4, '바나나':4, '파인애플':4, '감귤':4, '레몬':4, '오렌지':4,\n",
    "        '자몽':4, '아몬드':4, '망고':4, '체리':4, '블루베리':4, '호두':5,\n",
    "        '수박':6, '참외':6, '토마토':6, '딸기':6, '메론':6, '방울토마토':6, '오이':7,\n",
    "        '호박':7, '배추':8, '얼갈이배추':8, '양배추':8, '상추':8, '열무':8, '시금치':8,\n",
    "        '미나리':8, '깻잎':8, '갓':8, '무':9, '당근':9, '양파':10, '대파':10, '쪽파':10,\n",
    "        '풋고추':10, '꽈리고추':10, '건고추':10, '홍고추':10, '마늘':10, '생강':10,\n",
    "        '피망(단고추)':11, '파프리카':11, '참깨':12, '땅콩':12, '들깨':12, '느타리버섯':13,\n",
    "        '팽이버섯':13, '새송이':13, '조미제품':14, '건제품':14, '메밀':15}"
   ]
  },
  {
   "cell_type": "code",
   "execution_count": 16,
   "id": "ae0643c4",
   "metadata": {},
   "outputs": [],
   "source": [
    "df['대분류'] = df['중분류'].apply(lambda x : high[x])"
   ]
  },
  {
   "cell_type": "code",
   "execution_count": 22,
   "id": "b34c103a",
   "metadata": {
    "scrolled": false
   },
   "outputs": [],
   "source": [
    "df['도소매'] = df['시장'].apply(lambda x : 0 if x in do else 1)"
   ]
  },
  {
   "cell_type": "code",
   "execution_count": 23,
   "id": "cba3ab08",
   "metadata": {},
   "outputs": [],
   "source": [
    "df['거래일자'] = pd.to_datetime(df['거래일자'])"
   ]
  },
  {
   "cell_type": "code",
   "execution_count": 24,
   "id": "548ecd44",
   "metadata": {},
   "outputs": [],
   "source": [
    "df.drop(['등급', '품목코드'], axis=1, inplace=True)"
   ]
  },
  {
   "cell_type": "code",
   "execution_count": 27,
   "id": "bee1658a",
   "metadata": {},
   "outputs": [
    {
     "data": {
      "text/html": [
       "<div>\n",
       "<style scoped>\n",
       "    .dataframe tbody tr th:only-of-type {\n",
       "        vertical-align: middle;\n",
       "    }\n",
       "\n",
       "    .dataframe tbody tr th {\n",
       "        vertical-align: top;\n",
       "    }\n",
       "\n",
       "    .dataframe thead th {\n",
       "        text-align: right;\n",
       "    }\n",
       "</style>\n",
       "<table border=\"1\" class=\"dataframe\">\n",
       "  <thead>\n",
       "    <tr style=\"text-align: right;\">\n",
       "      <th></th>\n",
       "      <th>거래일자</th>\n",
       "      <th>품목명</th>\n",
       "      <th>단량</th>\n",
       "      <th>단위</th>\n",
       "      <th>시장</th>\n",
       "      <th>조사가격(원)</th>\n",
       "      <th>중분류</th>\n",
       "      <th>대분류</th>\n",
       "      <th>도소매</th>\n",
       "    </tr>\n",
       "  </thead>\n",
       "  <tbody>\n",
       "    <tr>\n",
       "      <th>2</th>\n",
       "      <td>2022-09-29</td>\n",
       "      <td>고추가루</td>\n",
       "      <td>1.0</td>\n",
       "      <td>kg</td>\n",
       "      <td>춘천중앙</td>\n",
       "      <td>14,000</td>\n",
       "      <td>조미제품</td>\n",
       "      <td>14</td>\n",
       "      <td>1</td>\n",
       "    </tr>\n",
       "    <tr>\n",
       "      <th>3</th>\n",
       "      <td>2022-09-29</td>\n",
       "      <td>고추가루</td>\n",
       "      <td>1.0</td>\n",
       "      <td>kg</td>\n",
       "      <td>대전K-유통</td>\n",
       "      <td>14,000</td>\n",
       "      <td>조미제품</td>\n",
       "      <td>14</td>\n",
       "      <td>1</td>\n",
       "    </tr>\n",
       "    <tr>\n",
       "      <th>4</th>\n",
       "      <td>2022-09-29</td>\n",
       "      <td>고추가루</td>\n",
       "      <td>1.0</td>\n",
       "      <td>kg</td>\n",
       "      <td>전주남부</td>\n",
       "      <td>10,000</td>\n",
       "      <td>조미제품</td>\n",
       "      <td>14</td>\n",
       "      <td>1</td>\n",
       "    </tr>\n",
       "    <tr>\n",
       "      <th>5</th>\n",
       "      <td>2022-09-29</td>\n",
       "      <td>고추가루</td>\n",
       "      <td>1.0</td>\n",
       "      <td>kg</td>\n",
       "      <td>전주S-유통</td>\n",
       "      <td>12,800</td>\n",
       "      <td>조미제품</td>\n",
       "      <td>14</td>\n",
       "      <td>1</td>\n",
       "    </tr>\n",
       "    <tr>\n",
       "      <th>6</th>\n",
       "      <td>2022-09-29</td>\n",
       "      <td>고추가루</td>\n",
       "      <td>1.0</td>\n",
       "      <td>kg</td>\n",
       "      <td>안동이마트</td>\n",
       "      <td>12,800</td>\n",
       "      <td>조미제품</td>\n",
       "      <td>14</td>\n",
       "      <td>1</td>\n",
       "    </tr>\n",
       "    <tr>\n",
       "      <th>...</th>\n",
       "      <td>...</td>\n",
       "      <td>...</td>\n",
       "      <td>...</td>\n",
       "      <td>...</td>\n",
       "      <td>...</td>\n",
       "      <td>...</td>\n",
       "      <td>...</td>\n",
       "      <td>...</td>\n",
       "      <td>...</td>\n",
       "    </tr>\n",
       "    <tr>\n",
       "      <th>56775</th>\n",
       "      <td>2022-09-02</td>\n",
       "      <td>호두(일반)</td>\n",
       "      <td>100.0</td>\n",
       "      <td>g</td>\n",
       "      <td>E-마트</td>\n",
       "      <td>2,160</td>\n",
       "      <td>호두</td>\n",
       "      <td>5</td>\n",
       "      <td>1</td>\n",
       "    </tr>\n",
       "    <tr>\n",
       "      <th>56776</th>\n",
       "      <td>2022-09-02</td>\n",
       "      <td>호두(일반)</td>\n",
       "      <td>100.0</td>\n",
       "      <td>g</td>\n",
       "      <td>서울L-마트</td>\n",
       "      <td>1,430</td>\n",
       "      <td>호두</td>\n",
       "      <td>5</td>\n",
       "      <td>1</td>\n",
       "    </tr>\n",
       "    <tr>\n",
       "      <th>56777</th>\n",
       "      <td>2022-09-02</td>\n",
       "      <td>호두(일반)</td>\n",
       "      <td>100.0</td>\n",
       "      <td>g</td>\n",
       "      <td>중앙시장</td>\n",
       "      <td>1,910</td>\n",
       "      <td>호두</td>\n",
       "      <td>5</td>\n",
       "      <td>1</td>\n",
       "    </tr>\n",
       "    <tr>\n",
       "      <th>56778</th>\n",
       "      <td>2022-09-02</td>\n",
       "      <td>호두(일반)</td>\n",
       "      <td>100.0</td>\n",
       "      <td>g</td>\n",
       "      <td>서울H-유통</td>\n",
       "      <td>1,110</td>\n",
       "      <td>호두</td>\n",
       "      <td>5</td>\n",
       "      <td>1</td>\n",
       "    </tr>\n",
       "    <tr>\n",
       "      <th>56779</th>\n",
       "      <td>2022-09-02</td>\n",
       "      <td>호두(일반)</td>\n",
       "      <td>100.0</td>\n",
       "      <td>g</td>\n",
       "      <td>경동시장</td>\n",
       "      <td>1,360</td>\n",
       "      <td>호두</td>\n",
       "      <td>5</td>\n",
       "      <td>1</td>\n",
       "    </tr>\n",
       "  </tbody>\n",
       "</table>\n",
       "<p>56620 rows × 9 columns</p>\n",
       "</div>"
      ],
      "text/plain": [
       "            거래일자     품목명     단량  단위      시장 조사가격(원)   중분류  대분류  도소매\n",
       "2     2022-09-29    고추가루    1.0  kg    춘천중앙  14,000  조미제품   14    1\n",
       "3     2022-09-29    고추가루    1.0  kg  대전K-유통  14,000  조미제품   14    1\n",
       "4     2022-09-29    고추가루    1.0  kg    전주남부  10,000  조미제품   14    1\n",
       "5     2022-09-29    고추가루    1.0  kg  전주S-유통  12,800  조미제품   14    1\n",
       "6     2022-09-29    고추가루    1.0  kg   안동이마트  12,800  조미제품   14    1\n",
       "...          ...     ...    ...  ..     ...     ...   ...  ...  ...\n",
       "56775 2022-09-02  호두(일반)  100.0   g    E-마트   2,160    호두    5    1\n",
       "56776 2022-09-02  호두(일반)  100.0   g  서울L-마트   1,430    호두    5    1\n",
       "56777 2022-09-02  호두(일반)  100.0   g    중앙시장   1,910    호두    5    1\n",
       "56778 2022-09-02  호두(일반)  100.0   g  서울H-유통   1,110    호두    5    1\n",
       "56779 2022-09-02  호두(일반)  100.0   g    경동시장   1,360    호두    5    1\n",
       "\n",
       "[56620 rows x 9 columns]"
      ]
     },
     "execution_count": 27,
     "metadata": {},
     "output_type": "execute_result"
    }
   ],
   "source": [
    "df"
   ]
  },
  {
   "cell_type": "code",
   "execution_count": 31,
   "id": "119d28b2",
   "metadata": {},
   "outputs": [
    {
     "data": {
      "text/plain": [
       "57"
      ]
     },
     "execution_count": 31,
     "metadata": {},
     "output_type": "execute_result"
    }
   ],
   "source": [
    "len(df['중분류'].unique())"
   ]
  },
  {
   "cell_type": "code",
   "execution_count": 32,
   "id": "59ac6ce5",
   "metadata": {},
   "outputs": [],
   "source": [
    "df.to_csv('농산물_9월_정제.tsv', sep='\\t', index=False)"
   ]
  }
 ],
 "metadata": {
  "kernelspec": {
   "display_name": "Python 3 (ipykernel)",
   "language": "python",
   "name": "python3"
  },
  "language_info": {
   "codemirror_mode": {
    "name": "ipython",
    "version": 3
   },
   "file_extension": ".py",
   "mimetype": "text/x-python",
   "name": "python",
   "nbconvert_exporter": "python",
   "pygments_lexer": "ipython3",
   "version": "3.9.12"
  }
 },
 "nbformat": 4,
 "nbformat_minor": 5
}
