{
 "cells": [
  {
   "cell_type": "code",
   "execution_count": 71,
   "id": "a676b1b0",
   "metadata": {},
   "outputs": [],
   "source": [
    "from selenium import webdriver\n",
    "from selenium.webdriver.common.by import By\n",
    "from selenium.webdriver.chrome.options import Options\n",
    "from selenium.webdriver.support.ui import WebDriverWait\n",
    "from selenium.webdriver.support import expected_conditions as EC\n",
    "import time\n",
    "import os"
   ]
  },
  {
   "cell_type": "code",
   "execution_count": 120,
   "id": "7dd6837d",
   "metadata": {},
   "outputs": [],
   "source": [
    "path = 'your path here'\n",
    "op = Options()\n",
    "# op.add_argument('headless')\n",
    "op.add_argument('lang=ko_KR')\n",
    "op.add_experimental_option('prefs', {\"download.default_directory\": r + path})\n",
    "\n",
    "driver = webdriver.Chrome('chromedriver', options=op)\n",
    "driver.get('https://oasis.krei.re.kr/basicInfo/kat/farmPrice.do')\n",
    "dd = ['중도매', '소비자']"
   ]
  },
  {
   "cell_type": "code",
   "execution_count": 121,
   "id": "899d2904",
   "metadata": {},
   "outputs": [],
   "source": [
    "def f(n):\n",
    "    elem = driver.find_element(By.XPATH, f'//*[@id=\"code{n}\"]')\n",
    "    if not elem.is_selected():\n",
    "        elem.click()"
   ]
  },
  {
   "cell_type": "code",
   "execution_count": 157,
   "id": "c3b0d678",
   "metadata": {},
   "outputs": [],
   "source": [
    "driver.find_element(By.XPATH, '//*[@id=\"sCalendar\"]').clear()\n",
    "driver.find_element(By.XPATH, '//*[@id=\"sCalendar\"]').send_keys('2022-01-01')\n",
    "\n",
    "driver.find_element(By.XPATH, '//*[@id=\"eCalendar\"]').clear()\n",
    "driver.find_element(By.XPATH, '//*[@id=\"eCalendar\"]').send_keys('2022-09-06')\n",
    "\n",
    "wait = WebDriverWait(driver, 10)"
   ]
  },
  {
   "cell_type": "code",
   "execution_count": 159,
   "id": "1dcba8a0",
   "metadata": {
    "scrolled": false
   },
   "outputs": [],
   "source": [
    "for y in range(1, 3):\n",
    "    if y < 2:\n",
    "        continue\n",
    "    time.sleep(1)\n",
    "    driver.find_element(By.XPATH, f'//*[@id=\"mode{y}\"]').click()\n",
    "    for x in range(14 ,15):\n",
    "#         if x < 11:\n",
    "#             continue\n",
    "        time.sleep(20)\n",
    "        driver.find_element(By.XPATH, f'//*[@id=\"spancode1\"]/dd/ol/li[{x}]').click()\n",
    "        time.sleep(1)\n",
    "        a = driver.find_elements(By.XPATH, '//*[@id=\"spancode2\"]/dd/ol[1]')[0].text.replace(' ', '').split('\\n')\n",
    "        for i in range(len(a)):\n",
    "            if not a[i]:\n",
    "                continue\n",
    "            if i > 4:\n",
    "                i += 90\n",
    "            f(20 + 2 * i)\n",
    "        b = driver.find_elements(By.XPATH, '//*[@id=\"spancode2\"]/dd/ol[2]')[0].text.replace(' ', '').split('\\n')\n",
    "        for i in range(len(b)):\n",
    "            if not b[i]:\n",
    "                continue\n",
    "            if i > 4:\n",
    "                i += 90\n",
    "            f(21 + 2 * i)\n",
    "        time.sleep(1)\n",
    "        c = driver.find_elements(By.XPATH, '//*[@id=\"spancode3\"]/dd/ol[1]')[0].text.replace(' ', '').split('\\n')\n",
    "        for i in range(len(c)):\n",
    "            if not c[i]:\n",
    "                continue\n",
    "            if i > 4:\n",
    "                i += 135\n",
    "            f(30 + 2 * i)\n",
    "        d = driver.find_elements(By.XPATH, '//*[@id=\"spancode3\"]/dd/ol[2]')[0].text.replace(' ', '').split('\\n')\n",
    "        for i in range(len(d)):\n",
    "            if not d[i]:\n",
    "                continue\n",
    "            if i > 4:\n",
    "                i += 135\n",
    "            f(31 + 2 * i)\n",
    "\n",
    "        wait.until(EC.element_to_be_clickable((By.XPATH, '//*[@id=\"search\"]')))\n",
    "        driver.find_element(By.XPATH, '//*[@id=\"search\"]').click()\n",
    "            # 오래 걸리는거임\n",
    "        driver.implicitly_wait(10)\n",
    "        wait.until(EC.element_to_be_clickable((By.XPATH, '//*[@id=\"excelDownload\"]/img')))\n",
    "        driver.find_element(By.XPATH, '//*[@id=\"excelDownload\"]/img').click()\n",
    "        driver.implicitly_wait(10)\n",
    "        \n",
    "#         kind = driver.find_element(By.XPATH, f'//*[@id=\"spancode1\"]/dd/ol/li[{x}]').text\n",
    "#         file = os.listdir(path)\n",
    "#         os.rename(f'{path}\\\\{file[-1]}', f'{path}\\\\{20190101}_{kind}_{dd[y - 1]}.xlsx')\n",
    "#         time.sleep(6)"
   ]
  }
 ],
 "metadata": {
  "kernelspec": {
   "display_name": "Python 3 (ipykernel)",
   "language": "python",
   "name": "python3"
  },
  "language_info": {
   "codemirror_mode": {
    "name": "ipython",
    "version": 3
   },
   "file_extension": ".py",
   "mimetype": "text/x-python",
   "name": "python",
   "nbconvert_exporter": "python",
   "pygments_lexer": "ipython3",
   "version": "3.9.12"
  }
 },
 "nbformat": 4,
 "nbformat_minor": 5
}
