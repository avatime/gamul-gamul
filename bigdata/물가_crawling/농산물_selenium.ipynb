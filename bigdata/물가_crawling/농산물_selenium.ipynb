{
 "cells": [
  {
   "cell_type": "code",
   "execution_count": 210,
   "id": "a676b1b0",
   "metadata": {},
   "outputs": [],
   "source": [
    "from selenium import webdriver\n",
    "from selenium.webdriver.common.by import By\n",
    "from selenium.webdriver.chrome.options import Options\n",
    "import time"
   ]
  },
  {
   "cell_type": "code",
   "execution_count": 227,
   "id": "7dd6837d",
   "metadata": {},
   "outputs": [],
   "source": [
    "op = Options()\n",
    "op.add_argument('headless')\n",
    "op.add_argument('lang=ko_KR')\n",
    "op.add_experimental_option('prefs', {\"download.default_directory\": r'C:\\Users\\SSAFY\\Desktop\\S07P22A305\\bigdata\\물가_crawling\\result_data'})\n",
    "\n",
    "driver = webdriver.Chrome('chromedriver', options=op)\n",
    "driver.get('https://oasis.krei.re.kr/basicInfo/kat/farmPrice.do')"
   ]
  },
  {
   "cell_type": "code",
   "execution_count": 228,
   "id": "899d2904",
   "metadata": {},
   "outputs": [],
   "source": [
    "def f(n):\n",
    "    elem = driver.find_element(By.XPATH, f'//*[@id=\"code{n}\"]')\n",
    "    if not elem.is_selected():\n",
    "        elem.click()"
   ]
  },
  {
   "cell_type": "code",
   "execution_count": 229,
   "id": "c3b0d678",
   "metadata": {},
   "outputs": [],
   "source": [
    "driver.find_element(By.XPATH, '//*[@id=\"sCalendar\"]').clear()\n",
    "driver.find_element(By.XPATH, '//*[@id=\"sCalendar\"]').send_keys('2019-01-01')\n",
    "\n",
    "driver.find_element(By.XPATH, '//*[@id=\"eCalendar\"]').clear()\n",
    "driver.find_element(By.XPATH, '//*[@id=\"eCalendar\"]').send_keys('2019-12-31')"
   ]
  },
  {
   "cell_type": "code",
   "execution_count": 230,
   "id": "1dcba8a0",
   "metadata": {
    "scrolled": true
   },
   "outputs": [],
   "source": [
    "driver.find_element(By.XPATH, '//*[@id=\"spancode1\"]/dd/ol/li[1]').click()\n",
    "time.sleep(1)\n",
    "a = driver.find_elements(By.XPATH, '//*[@id=\"spancode2\"]/dd/ol[1]')[0].text.replace(' ', '').split('\\n')\n",
    "for i in range(len(a)):\n",
    "    if not a[i]:\n",
    "        continue\n",
    "    if i > 4:\n",
    "        i += 90\n",
    "    f(20 + 2 * i)\n",
    "b = driver.find_elements(By.XPATH, '//*[@id=\"spancode2\"]/dd/ol[2]')[0].text.replace(' ', '').split('\\n')\n",
    "for i in range(len(b)):\n",
    "    if not b[i]:\n",
    "        continue\n",
    "    if i > 4:\n",
    "        i += 90\n",
    "    f(21 + 2 * i)\n",
    "time.sleep(1)\n",
    "c = driver.find_elements(By.XPATH, '//*[@id=\"spancode3\"]/dd/ol[1]')[0].text.replace(' ', '').split('\\n')\n",
    "for i in range(len(c)):\n",
    "    if not c[i]:\n",
    "        continue\n",
    "    if i > 4:\n",
    "        i += 135\n",
    "    f(30 + 2 * i)\n",
    "d = driver.find_elements(By.XPATH, '//*[@id=\"spancode3\"]/dd/ol[2]')[0].text.replace(' ', '').split('\\n')\n",
    "for i in range(len(d)):\n",
    "    if not d[i]:\n",
    "        continue\n",
    "    if i > 4:\n",
    "        i += 135\n",
    "    f(31 + 2 * i)"
   ]
  },
  {
   "cell_type": "code",
   "execution_count": 231,
   "id": "ef60e115",
   "metadata": {
    "scrolled": true
   },
   "outputs": [],
   "source": [
    "driver.find_element(By.XPATH, '//*[@id=\"search\"]').click()\n",
    "time.sleep(3)"
   ]
  },
  {
   "cell_type": "code",
   "execution_count": 232,
   "id": "5e4ae640",
   "metadata": {},
   "outputs": [],
   "source": [
    "driver.find_element(By.XPATH, '//*[@id=\"excelDownload\"]/img').click()\n",
    "time.sleep(10)    # 오래 걸리는거임"
   ]
  }
 ],
 "metadata": {
  "kernelspec": {
   "display_name": "Python 3 (ipykernel)",
   "language": "python",
   "name": "python3"
  },
  "language_info": {
   "codemirror_mode": {
    "name": "ipython",
    "version": 3
   },
   "file_extension": ".py",
   "mimetype": "text/x-python",
   "name": "python",
   "nbconvert_exporter": "python",
   "pygments_lexer": "ipython3",
   "version": "3.9.12"
  }
 },
 "nbformat": 4,
 "nbformat_minor": 5
}
