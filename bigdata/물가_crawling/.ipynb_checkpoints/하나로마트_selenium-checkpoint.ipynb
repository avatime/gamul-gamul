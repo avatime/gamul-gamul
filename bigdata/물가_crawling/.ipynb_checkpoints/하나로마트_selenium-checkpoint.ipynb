{
 "cells": [
  {
   "cell_type": "code",
   "execution_count": 70,
   "id": "7f332aed",
   "metadata": {},
   "outputs": [],
   "source": [
    "from selenium import webdriver\n",
    "from selenium.webdriver.common.by import By\n",
    "from selenium.webdriver.chrome.options import Options\n",
    "import pandas as pd\n",
    "from tqdm import tqdm\n",
    "import time"
   ]
  },
  {
   "cell_type": "code",
   "execution_count": 5,
   "id": "a1b59f9c",
   "metadata": {},
   "outputs": [],
   "source": [
    "op = Options()\n",
    "op.add_argument('lang=ko_KR')\n",
    "driver = webdriver.Chrome('chromedriver', options=op)\n",
    "driver.get('https://www.nhhanaro.co.kr/nahh_70303.do?siteId=nahh001&id=nahh001_010100000000')"
   ]
  },
  {
   "cell_type": "code",
   "execution_count": 73,
   "id": "f3586cf0",
   "metadata": {},
   "outputs": [
    {
     "name": "stderr",
     "output_type": "stream",
     "text": [
      "100%|██████████████████████████████████████████████████████████████████████████████████| 25/25 [00:27<00:00,  1.11s/it]\n",
      "100%|██████████████████████████████████████████████████████████████████████████████████| 16/16 [00:17<00:00,  1.09s/it]\n",
      "100%|████████████████████████████████████████████████████████████████████████████████████| 8/8 [00:08<00:00,  1.11s/it]\n",
      "100%|██████████████████████████████████████████████████████████████████████████████████| 10/10 [00:11<00:00,  1.11s/it]\n",
      "100%|████████████████████████████████████████████████████████████████████████████████████| 5/5 [00:05<00:00,  1.13s/it]\n",
      "100%|████████████████████████████████████████████████████████████████████████████████████| 5/5 [00:05<00:00,  1.17s/it]\n",
      "100%|████████████████████████████████████████████████████████████████████████████████████| 5/5 [00:05<00:00,  1.14s/it]\n",
      "100%|████████████████████████████████████████████████████████████████████████████████████| 1/1 [00:01<00:00,  1.16s/it]\n",
      "100%|██████████████████████████████████████████████████████████████████████████████████| 32/32 [00:37<00:00,  1.16s/it]\n",
      "100%|██████████████████████████████████████████████████████████████████████████████████| 18/18 [00:21<00:00,  1.19s/it]\n",
      "100%|██████████████████████████████████████████████████████████████████████████████████| 12/12 [00:14<00:00,  1.18s/it]\n",
      "100%|██████████████████████████████████████████████████████████████████████████████████| 17/17 [00:20<00:00,  1.23s/it]\n",
      "100%|██████████████████████████████████████████████████████████████████████████████████| 14/14 [00:17<00:00,  1.22s/it]\n",
      "100%|██████████████████████████████████████████████████████████████████████████████████| 22/22 [00:26<00:00,  1.23s/it]\n",
      "100%|██████████████████████████████████████████████████████████████████████████████████| 23/23 [00:28<00:00,  1.22s/it]\n",
      "100%|██████████████████████████████████████████████████████████████████████████████████| 18/18 [00:22<00:00,  1.27s/it]\n",
      "100%|████████████████████████████████████████████████████████████████████████████████████| 2/2 [00:02<00:00,  1.32s/it]\n"
     ]
    }
   ],
   "source": [
    "a = pd.DataFrame()\n",
    "for x in [11, 26, 27, 28, 29, 30, 31, 36, 41, 42, 43, 44, 45, 46, 47, 48, 50]:\n",
    "    temp = pd.DataFrame()\n",
    "    temp['도'] = [driver.find_element(By.XPATH, f'//*[@id=\"prov_c{x}\"]/a').text]\n",
    "    driver.find_element(By.XPATH, f'//*[@id=\"prov_c{x}\"]/a').click()\n",
    "    time.sleep(1)\n",
    "    t = driver.find_element(By.XPATH, '//*[@id=\"ccwC\"]')\n",
    "    li = t.find_elements(By.TAG_NAME, 'li')\n",
    "    for y in tqdm(li):\n",
    "        temp['시군구'] = y.text\n",
    "        y.click()\n",
    "        time.sleep(1)\n",
    "        t = driver.find_element(By.XPATH, '//*[@id=\"area_result_zone\"]')\n",
    "        li = t.find_elements(By.TAG_NAME, 'li')\n",
    "        for z in li:\n",
    "            temp['지점'] = z.text\n",
    "            a = pd.concat([a, temp], ignore_index=True)"
   ]
  },
  {
   "cell_type": "code",
   "execution_count": 75,
   "id": "8106f22f",
   "metadata": {},
   "outputs": [],
   "source": [
    "a.to_csv('하나로마트.csv', encoding='utf-8-sig')"
   ]
  }
 ],
 "metadata": {
  "kernelspec": {
   "display_name": "Python 3 (ipykernel)",
   "language": "python",
   "name": "python3"
  },
  "language_info": {
   "codemirror_mode": {
    "name": "ipython",
    "version": 3
   },
   "file_extension": ".py",
   "mimetype": "text/x-python",
   "name": "python",
   "nbconvert_exporter": "python",
   "pygments_lexer": "ipython3",
   "version": "3.9.12"
  }
 },
 "nbformat": 4,
 "nbformat_minor": 5
}
