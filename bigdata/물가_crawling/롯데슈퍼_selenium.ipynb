{
 "cells": [
  {
   "cell_type": "code",
   "execution_count": 1,
   "id": "eaaa005a",
   "metadata": {},
   "outputs": [],
   "source": [
    "from selenium import webdriver\n",
    "from selenium.webdriver.common.by import By\n",
    "from selenium.webdriver.chrome.options import Options\n",
    "import pandas as pd\n",
    "from tqdm import tqdm\n",
    "import time"
   ]
  },
  {
   "cell_type": "code",
   "execution_count": 2,
   "id": "bb5a8eab",
   "metadata": {},
   "outputs": [],
   "source": [
    "op = Options()\n",
    "op.add_argument('lang=ko_KR')\n",
    "driver = webdriver.Chrome('chromedriver', options=op)\n",
    "driver.get('https://www.lotteon.com/p/lotteplus/offlinestore/offLineStoreInfo?mall_no=5#')"
   ]
  },
  {
   "cell_type": "code",
   "execution_count": 12,
   "id": "4b92ae18",
   "metadata": {},
   "outputs": [
    {
     "name": "stderr",
     "output_type": "stream",
     "text": [
      "100%|████████████████████████████████████████████████████████████████████████████████| 244/244 [00:16<00:00, 14.91it/s]\n"
     ]
    }
   ],
   "source": [
    "a = pd.DataFrame()\n",
    "t = driver.find_element(By.XPATH, '//*[@id=\"content\"]/div/div/div[2]/div/div/table')\n",
    "tr = t.find_elements(By.TAG_NAME, 'tr')\n",
    "i = 1\n",
    "for x in tqdm(tr):\n",
    "    temp = pd.DataFrame()\n",
    "    if i == 1:\n",
    "        i += 1\n",
    "        continue\n",
    "    place = driver.find_element(By.XPATH, f'//*[@id=\"content\"]/div/div/div[2]/div/div/table/tr[{i}]/td[2]').text\n",
    "    temp['도'] = [place.split(' ')[0]]\n",
    "    temp['시군구'] = place.split(' ')[1]\n",
    "    temp['지점'] = driver.find_element(By.XPATH, f'//*[@id=\"content\"]/div/div/div[2]/div/div/table/tr[{i}]/td[1]').text\n",
    "    temp['전화번호'] = driver.find_element(By.XPATH, f'//*[@id=\"content\"]/div/div/div[2]/div/div/table/tr[{i}]/td[3]').text\n",
    "    i += 1\n",
    "    a = pd.concat([a, temp], ignore_index=True)"
   ]
  },
  {
   "cell_type": "code",
   "execution_count": 14,
   "id": "9a9bf15e",
   "metadata": {},
   "outputs": [],
   "source": [
    "a.to_csv('롯데슈퍼.csv', encoding='utf-8-sig')"
   ]
  }
 ],
 "metadata": {
  "kernelspec": {
   "display_name": "Python 3 (ipykernel)",
   "language": "python",
   "name": "python3"
  },
  "language_info": {
   "codemirror_mode": {
    "name": "ipython",
    "version": 3
   },
   "file_extension": ".py",
   "mimetype": "text/x-python",
   "name": "python",
   "nbconvert_exporter": "python",
   "pygments_lexer": "ipython3",
   "version": "3.9.12"
  }
 },
 "nbformat": 4,
 "nbformat_minor": 5
}
